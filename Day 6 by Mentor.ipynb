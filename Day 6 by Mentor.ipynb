{
 "cells": [
  {
   "cell_type": "markdown",
   "metadata": {},
   "source": [
    "# Question 1 \n",
    "    Python program to Swap Keys and Values in Dictionary."
   ]
  },
  {
   "cell_type": "code",
   "execution_count": 8,
   "metadata": {},
   "outputs": [
    {
     "name": "stdout",
     "output_type": "stream",
     "text": [
      "{'Sagar': 20, 'Ketan': 25, 'Shankar': 21}\n",
      "{20: 'Sagar', 25: 'Ketan', 21: 'Shankar'}\n"
     ]
    }
   ],
   "source": [
    "d= {\n",
    "    'Sagar':20,\n",
    "    'Ketan':25,\n",
    "    'Shankar':21\n",
    "}\n",
    "print(d)\n",
    "dict={}\n",
    "for keys,values in d.items():\n",
    "    dict[values]=keys\n",
    "print(dict)"
   ]
  },
  {
   "cell_type": "markdown",
   "metadata": {},
   "source": [
    "# Question 2\n",
    "    Write program to implement Selection sort."
   ]
  },
  {
   "cell_type": "code",
   "execution_count": 38,
   "metadata": {},
   "outputs": [
    {
     "name": "stdout",
     "output_type": "stream",
     "text": [
      "[1, 3, 4, 6, 34, 56, 56, 89, 99]\n"
     ]
    }
   ],
   "source": [
    "def selection(numbers):\n",
    "    n=len(numbers)\n",
    "    for i in range(n):\n",
    "        min=i\n",
    "        for j in range(i+1,n):\n",
    "            if numbers[j] < numbers[min]:\n",
    "                min=j\n",
    "        temp=numbers[i]\n",
    "        numbers[i]= numbers[min]\n",
    "        numbers[min]=temp\n",
    "numbers = [1,4,6,3,34,56,89,99,56]\n",
    "selection(numbers)\n",
    "print(numbers)"
   ]
  },
  {
   "cell_type": "markdown",
   "metadata": {},
   "source": [
    "# Question 3\n",
    "    Write program to implement Insertion sort."
   ]
  },
  {
   "cell_type": "code",
   "execution_count": 50,
   "metadata": {},
   "outputs": [
    {
     "name": "stdout",
     "output_type": "stream",
     "text": [
      "[1, 2, 7, 35, 56, 61, 77]\n"
     ]
    }
   ],
   "source": [
    "numbers =[1,2,35,7,56,77,61]\n",
    "\n",
    "for i in range (1,len(numbers)):\n",
    "    temp= numbers[i]\n",
    "    index=i\n",
    "    while (temp<numbers[index-1] and index>=0):\n",
    "        numbers[index] = numbers[index-1]\n",
    "        index = index-1\n",
    "    numbers[index] = temp\n",
    "print(numbers)"
   ]
  },
  {
   "cell_type": "markdown",
   "metadata": {},
   "source": [
    "# Question 4\n",
    "    Given a nested list extend it with adding sub list [\"h\", \"i\", \"j\"] in a such a way that it will look like the following list.\n",
    "    Given list: list1 = [\"a\", \"b\", [\"c\", [\"d\", \"e\", [\"f\", \"g\"], \"k\"], \"l\"], \"m\",  \"n\"]\n",
    "    Sub List to be added = [\"h\", \"i\", \"j\"]\n",
    "Expected output:-\n",
    "['a', 'b', ['c', ['d', 'e', ['f', 'g', 'h', 'i', 'j'], 'k'], 'l'], 'm', 'n']\n"
   ]
  },
  {
   "cell_type": "code",
   "execution_count": 54,
   "metadata": {},
   "outputs": [
    {
     "name": "stdout",
     "output_type": "stream",
     "text": [
      "['a', 'b', ['c', ['d', 'e', ['f', 'g'], 'k'], 'l'], 'm', 'n']\n",
      "['a', 'b', ['c', ['d', 'e', ['f', 'g', 'h', 'i', 'j'], 'k'], 'l'], 'm', 'n']\n"
     ]
    }
   ],
   "source": [
    "list1 = [\"a\",\"b\",[\"c\",[\"d\",\"e\",[\"f\",\"g\"],\"k\"],\"l\"],\"m\",\"n\"]\n",
    "\n",
    "print(list1)\n",
    "add= [\"h\",\"i\",\"j\"]\n",
    "\n",
    "list1[2][1][2].extend(add)\n",
    "print(list1)"
   ]
  },
  {
   "cell_type": "markdown",
   "metadata": {},
   "source": [
    "# Question 5\n",
    "     Access the value of key “history”\n",
    "sampleDict = { \n",
    "   \"class\":{ \n",
    "      \"student\":{ \n",
    "         \"name\":\"Mike\",\n",
    "         \"marks\":{ \n",
    "            \"physics\":70,\n",
    "            \"history\":80\n",
    "         }\n",
    "      }\n",
    "   }\n",
    "}\n",
    "Expected output: 80"
   ]
  },
  {
   "cell_type": "code",
   "execution_count": 64,
   "metadata": {},
   "outputs": [
    {
     "name": "stdout",
     "output_type": "stream",
     "text": [
      "{'class': {'student': {'name': 'Mike', 'marks': {'physics': 70, 'history': 80}}}}\n",
      "80\n"
     ]
    }
   ],
   "source": [
    "sampleDict = {\n",
    "    \"class\":{\n",
    "        \"student\":{\n",
    "            \"name\":\"Mike\",\"marks\":{\n",
    "                \"physics\":70,\n",
    "                \"history\":80\n",
    "            }\n",
    "        }\n",
    "    }\n",
    "}\n",
    "print(sampleDict)\n",
    "\n",
    "print(sampleDict[\"class\"][\"student\"][\"marks\"][\"history\"])\n"
   ]
  }
 ],
 "metadata": {
  "kernelspec": {
   "display_name": "Python 3",
   "language": "python",
   "name": "python3"
  },
  "language_info": {
   "codemirror_mode": {
    "name": "ipython",
    "version": 3
   },
   "file_extension": ".py",
   "mimetype": "text/x-python",
   "name": "python",
   "nbconvert_exporter": "python",
   "pygments_lexer": "ipython3",
   "version": "3.7.6"
  }
 },
 "nbformat": 4,
 "nbformat_minor": 4
}
