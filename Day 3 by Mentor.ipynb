{
 "cells": [
  {
   "cell_type": "markdown",
   "metadata": {},
   "source": [
    "# Question 1\n",
    "    You are given with a list of integer elements. Make a new list which will store square of elements of previous list."
   ]
  },
  {
   "cell_type": "code",
   "execution_count": null,
   "metadata": {},
   "outputs": [],
   "source": [
    "new_list=[]\n",
    "list=[1,2,3,4,5]\n",
    "new_list=[]\n",
    "\n",
    "for i in list:\n",
    "    new_list.append(i**2)\n",
    "print(new_list)"
   ]
  },
  {
   "cell_type": "markdown",
   "metadata": {},
   "source": [
    "# Question 2\n",
    "    From a list containing ints, strings and floats, make three lists to store them separately. "
   ]
  },
  {
   "cell_type": "code",
   "execution_count": 30,
   "metadata": {},
   "outputs": [
    {
     "name": "stdout",
     "output_type": "stream",
     "text": [
      "4\n",
      "sagar\n",
      "67.76\n",
      "[10]\n",
      "['Sagar']\n",
      "[47.45]\n"
     ]
    }
   ],
   "source": [
    "\n",
    "list_all=[10,\"Sagar\",47.45]\n",
    "a=[]\n",
    "b=[]\n",
    "c=[]\n",
    "\n",
    "for i in list_all:\n",
    "    if type(i) == int:\n",
    "        a.append(i)\n",
    "    elif type(i) == str:\n",
    "        b.append(i)\n",
    "    elif type(i) == float:\n",
    "        c.append(i)\n",
    "print(a)\n",
    "print(b)\n",
    "print(c)"
   ]
  },
  {
   "cell_type": "markdown",
   "metadata": {},
   "source": [
    "# Question 3\n",
    "    Print the pattern\n",
    "    1\n",
    "    1 2 \n",
    "    1 2 3\n",
    "    1 2 3 4\n",
    "    1 2 3 4 5"
   ]
  },
  {
   "cell_type": "code",
   "execution_count": 11,
   "metadata": {},
   "outputs": [
    {
     "name": "stdout",
     "output_type": "stream",
     "text": [
      "\n",
      "\n",
      "1 \n",
      "\n",
      "1 2 \n",
      "\n",
      "1 2 3 \n",
      "\n",
      "1 2 3 4 \n",
      "\n",
      "1 2 3 4 5 \n",
      "\n"
     ]
    }
   ],
   "source": [
    "for i in range(1,7,1):\n",
    "    for j in range(1,i):\n",
    "        print(j,end=\" \")\n",
    "    print(\"\\n\")"
   ]
  },
  {
   "cell_type": "markdown",
   "metadata": {},
   "source": [
    "# Question 4\n",
    "     Accept data in two 3*3  matrix and calculate the sum of the matrices."
   ]
  },
  {
   "cell_type": "code",
   "execution_count": 68,
   "metadata": {},
   "outputs": [
    {
     "name": "stdout",
     "output_type": "stream",
     "text": [
      "[8, 8, 8]\n",
      "[8, 8, 8]\n",
      "[8, 8, 8]\n"
     ]
    }
   ],
   "source": [
    "list1 = [[5,5,5],[5,5,5],[5,5,5]]\n",
    "\n",
    "list2 = [[3,3,3],[3,3,3],[3,3,3]]\n",
    "\n",
    "result = [[0,0,0],[0,0,0],[0,0,0]]\n",
    "\n",
    "for i in range(len(list1)):\n",
    "    for j in range(len(list1[0])):\n",
    "        result[i][j] = list1[i][j] + list2[i][j]\n",
    "for k in result:\n",
    "    print(k)\n",
    "\n",
    "    \n"
   ]
  },
  {
   "cell_type": "markdown",
   "metadata": {},
   "source": [
    " # Question 5\n",
    "     Write a Python program to check whether a given number is a narcissistic number or not\n",
    "    For example, 371 is a narcissistic number; it has three digits, and if we cube each digits  33 + 73 + 13 the sum is 371. Other 3-digit narcissistic   numbers are\n",
    "    153 = 13 + 53 + 33\n",
    "    370 = 33 + 73 + 03\n",
    "    407 = 43 + 03 + 73.\n",
    "    There are also 4-digit narcissistic numbers, some of which are 1634, 8208, 9474 since\n",
    "    1634 = 14+64+34+44\n",
    "    8208 = 84+24+04+84\n",
    "    9474 = 94+44+74+44\n"
   ]
  },
  {
   "cell_type": "code",
   "execution_count": null,
   "metadata": {},
   "outputs": [],
   "source": []
  }
 ],
 "metadata": {
  "kernelspec": {
   "display_name": "Python 3",
   "language": "python",
   "name": "python3"
  },
  "language_info": {
   "codemirror_mode": {
    "name": "ipython",
    "version": 3
   },
   "file_extension": ".py",
   "mimetype": "text/x-python",
   "name": "python",
   "nbconvert_exporter": "python",
   "pygments_lexer": "ipython3",
   "version": "3.7.6"
  }
 },
 "nbformat": 4,
 "nbformat_minor": 4
}
