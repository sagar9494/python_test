{
 "cells": [
  {
   "cell_type": "markdown",
   "metadata": {},
   "source": [
    "# Question 1\n",
    "     Write python program to perform bank operations using class and objects.\n",
    "       Conditions:\n",
    "    a. Bank name should be static.\n",
    "    b. Using menu driven program.\n",
    "    1 .Deposit\n",
    "    2. Withdraw\n",
    "    3. Exit"
   ]
  },
  {
   "cell_type": "code",
   "execution_count": null,
   "metadata": {},
   "outputs": [
    {
     "name": "stdout",
     "output_type": "stream",
     "text": [
      "Welcome to State Bank Of India\n",
      "Select your choice:\n",
      "1.Deposite \n",
      "2.Withdraw \n",
      "3.Exit\n"
     ]
    },
    {
     "name": "stdin",
     "output_type": "stream",
     "text": [
      "Enter the number to select option 1\n",
      "Enter amount for deposite 100\n"
     ]
    },
    {
     "name": "stdout",
     "output_type": "stream",
     "text": [
      "Balance after deposite: 100\n",
      "Welcome to State Bank Of India\n",
      "Select your choice:\n",
      "1.Deposite \n",
      "2.Withdraw \n",
      "3.Exit\n"
     ]
    },
    {
     "name": "stdin",
     "output_type": "stream",
     "text": [
      "Enter the number to select option 2\n",
      "Enter amount for withdraw 50\n"
     ]
    },
    {
     "name": "stdout",
     "output_type": "stream",
     "text": [
      "Balance after withdraw: -50\n",
      "Welcome to State Bank Of India\n",
      "Select your choice:\n",
      "1.Deposite \n",
      "2.Withdraw \n",
      "3.Exit\n"
     ]
    }
   ],
   "source": [
    "class Bank:\n",
    "    Bankname=\"State Bank of india\"\n",
    "    def __init__(self):\n",
    "        self.balance=0\n",
    "    def deposite(self,amount):\n",
    "        self.balance+=amount\n",
    "        print(\"Balance after deposite:\",self.balance)\n",
    "    def withdraw(self,amount):\n",
    "        self.balance-=amount\n",
    "        print(\"Balance after withdraw:\",self.balance)\n",
    "    def exit(self):\n",
    "        print(\"Exit\")\n",
    "\n",
    "while True:\n",
    "    print(\"Welcome to State Bank Of India\")\n",
    "    print(\"Select your choice:\\n1.Deposite \\n2.Withdraw \\n3.Exit\")\n",
    "    n=int(input(\"Enter the number to select option\"))\n",
    "    b=Bank()\n",
    "    if n==1:\n",
    "        amount=int(input(\"Enter amount for deposite\"))\n",
    "        b.deposite(amount)\n",
    "    elif n==2:\n",
    "        amount=int(input(\"Enter amount for withdraw\"))\n",
    "        b.withdraw(amount)\n",
    "    elif n==3:\n",
    "        b.exit()\n",
    "        break\n",
    "    else:\n",
    "        pass\n",
    "    "
   ]
  },
  {
   "cell_type": "markdown",
   "metadata": {},
   "source": [
    "# Question 2\n",
    "  Write a Python class named Circle constructed by a radius and two methods which will compute the area and the perimeter of a circle.  "
   ]
  },
  {
   "cell_type": "code",
   "execution_count": 20,
   "metadata": {},
   "outputs": [
    {
     "name": "stdout",
     "output_type": "stream",
     "text": [
      "The area of circle: 200.96\n",
      "The area of perimeter: 50.24\n"
     ]
    }
   ],
   "source": [
    "class Circle:\n",
    "    def __init__(self,r):\n",
    "        self.r=r\n",
    "    def area(self):\n",
    "        return self.r**2*3.14\n",
    "    def perimeter(self):\n",
    "        return 2*3.14*self.r\n",
    "c=Circle(8)\n",
    "print(\"The area of circle:\",c.area())\n",
    "print(\"The area of perimeter:\",format(c.perimeter(),\".2f\"))"
   ]
  },
  {
   "cell_type": "markdown",
   "metadata": {},
   "source": [
    "# Question 3\n",
    "    Define a class named Shape and its subclass Square. The Square class has an init function which takes a length as argument. Both classes have a area function which can print the area of the shape where Shape's area is 0 by default.\n",
    "\n",
    "    Hints:\n",
    "\n",
    "    To override a method in super class, we can define a method with the same name in the super class."
   ]
  },
  {
   "cell_type": "code",
   "execution_count": 26,
   "metadata": {},
   "outputs": [
    {
     "name": "stdout",
     "output_type": "stream",
     "text": [
      "The area of square: 9\n"
     ]
    }
   ],
   "source": [
    "class Shape:\n",
    "    def __init__(self):\n",
    "        pass\n",
    "\n",
    "    def area(self):\n",
    "        return 0\n",
    "class Square:\n",
    "    def __init__(self,l):\n",
    "        super().__init__()\n",
    "        self.length=l\n",
    "\n",
    "    def area(self):\n",
    "        return self.length*self.length\n",
    "s=Square(3)\n",
    "print(\"The area of square:\",s.area())"
   ]
  },
  {
   "cell_type": "markdown",
   "metadata": {},
   "source": [
    "# Question 4 \n",
    "    Write a program to count how many reference variables in a program. \n",
    "   "
   ]
  },
  {
   "cell_type": "code",
   "execution_count": 29,
   "metadata": {},
   "outputs": [
    {
     "name": "stdout",
     "output_type": "stream",
     "text": [
      "The number of reference variables: 5\n"
     ]
    }
   ],
   "source": [
    "import sys\n",
    "class Demo:\n",
    "    pass\n",
    "v1=Demo()\n",
    "v2=v1\n",
    "v3=v2\n",
    "v4=v3\n",
    "print(\"The number of reference variables:\",sys.getrefcount(v1))"
   ]
  },
  {
   "cell_type": "markdown",
   "metadata": {},
   "source": [
    "# Question 5\n",
    "    write any program to achieve composition in Python"
   ]
  },
  {
   "cell_type": "code",
   "execution_count": 30,
   "metadata": {},
   "outputs": [
    {
     "name": "stdout",
     "output_type": "stream",
     "text": [
      "12\n"
     ]
    }
   ],
   "source": [
    "def addition(x):\n",
    "    return x+2\n",
    "def multiply(x):\n",
    "    return x*2\n",
    "print(multiply(addition(4)))"
   ]
  }
 ],
 "metadata": {
  "kernelspec": {
   "display_name": "Python 3",
   "language": "python",
   "name": "python3"
  },
  "language_info": {
   "codemirror_mode": {
    "name": "ipython",
    "version": 3
   },
   "file_extension": ".py",
   "mimetype": "text/x-python",
   "name": "python",
   "nbconvert_exporter": "python",
   "pygments_lexer": "ipython3",
   "version": "3.7.6"
  }
 },
 "nbformat": 4,
 "nbformat_minor": 4
}
