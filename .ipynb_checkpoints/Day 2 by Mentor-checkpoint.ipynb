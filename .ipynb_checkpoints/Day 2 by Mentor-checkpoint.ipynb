{
 "cells": [
  {
   "cell_type": "markdown",
   "metadata": {},
   "source": [
    "# Question 1\n",
    "    Python Program to Read a Number n And Print the Series “1+2+…..+n= “\n",
    "          sample:\n",
    "          Case 1:\n",
    "\tEnter a number: 4\n",
    "    1 + 2 + 3 + 4 = 10 \n",
    "    Case 2:\n",
    "    Enter a number: 5\n",
    "    1 + 2 + 3 + 4 + 5 = 15"
   ]
  },
  {
   "cell_type": "code",
   "execution_count": 52,
   "metadata": {},
   "outputs": [
    {
     "name": "stdin",
     "output_type": "stream",
     "text": [
      "Enter the number: 5\n"
     ]
    },
    {
     "name": "stdout",
     "output_type": "stream",
     "text": [
      "Sum of the series: \n",
      "1 + 2 + 3 + 4 + 5 = 15.0\n"
     ]
    }
   ],
   "source": [
    "n=int(input(\"Enter the number:\"))\n",
    "\n",
    "sum=0\n",
    "sum = (n * (n + 1)) / 2\n",
    "print(\"Sum of the series: \")\n",
    "\n",
    "for i in range (1,n+1,1):\n",
    "    if (i!=n):\n",
    "        print(i,\"+\",end=\" \")\n",
    "    else:\n",
    "        print(i,\"=\",sum)\n",
    "\n"
   ]
  },
  {
   "cell_type": "markdown",
   "metadata": {},
   "source": [
    "# Question 2\n",
    "    2. Write a Python program to count the number of even and odd numbers from a series of numbers.\n",
    "    Sample numbers :\n",
    "     numbers = [1, 2, 3, 4, 5, 6, 7, 8, 9]\n",
    "    Expected Output :\n",
    "    Number of even numbers : 4\n",
    "    Number of odd numbers : 5"
   ]
  },
  {
   "cell_type": "code",
   "execution_count": 51,
   "metadata": {},
   "outputs": [
    {
     "name": "stdout",
     "output_type": "stream",
     "text": [
      "Number of even numbers: 2\n",
      "number of odd numbers: 3\n"
     ]
    }
   ],
   "source": [
    "n = (1,2,3,4,5)\n",
    "\n",
    "odd =0\n",
    "even=0\n",
    "\n",
    "for i in n:\n",
    "    if i%2:\n",
    "        odd +=1\n",
    "    else:\n",
    "        even +=1\n",
    "print(\"Number of even numbers:\",even)\n",
    "print(\"number of odd numbers:\",odd)\n",
    "        \n",
    "    \n",
    "\n"
   ]
  },
  {
   "cell_type": "markdown",
   "metadata": {},
   "source": [
    "# Question 3\n",
    "    Write a Python program to create the multiplication table (from 1 to 10) of a number. "
   ]
  },
  {
   "cell_type": "code",
   "execution_count": 50,
   "metadata": {},
   "outputs": [
    {
     "name": "stdout",
     "output_type": "stream",
     "text": [
      "1  2  3  4  5  6  7  8  9  10  \n",
      "\n",
      "2  4  6  8  10  12  14  16  18  20  \n",
      "\n",
      "3  6  9  12  15  18  21  24  27  30  \n",
      "\n",
      "4  8  12  16  20  24  28  32  36  40  \n",
      "\n",
      "5  10  15  20  25  30  35  40  45  50  \n",
      "\n",
      "6  12  18  24  30  36  42  48  54  60  \n",
      "\n",
      "7  14  21  28  35  42  49  56  63  70  \n",
      "\n",
      "8  16  24  32  40  48  56  64  72  80  \n",
      "\n",
      "9  18  27  36  45  54  63  72  81  90  \n",
      "\n",
      "10  20  30  40  50  60  70  80  90  100  \n",
      "\n"
     ]
    }
   ],
   "source": [
    "for i in range(1,11,1):\n",
    "    for j in range(1,11,1):\n",
    "        mul=i*j\n",
    "        print(mul,end=\"  \")\n",
    "    print(\"\\n\")"
   ]
  },
  {
   "cell_type": "markdown",
   "metadata": {},
   "source": [
    "# Question 4\n",
    "    Given the triangle of consecutive odd  numbers\n",
    "\t\n",
    "    Row 1               1\n",
    "    Row 2           3       5\n",
    "    Row 3       7       9       11\n",
    "    Row 4    13   15      17        19\n",
    "    Row 5  21    23    25     27   29 \n",
    "    \n",
    "    Above triangle is given Calculate Sum row wise \n",
    "    Example we call function :- row_sum_odd_numbers(2)\n",
    "    Result will be=3 + 5 = 8\n",
    "    if user give 4 then ur output is 13 + 15 + 17+ 19 = 64\n",
    "\n"
   ]
  },
  {
   "cell_type": "code",
   "execution_count": null,
   "metadata": {},
   "outputs": [],
   "source": [
    "\n"
   ]
  },
  {
   "cell_type": "markdown",
   "metadata": {},
   "source": [
    "# Question 5\n",
    "    Write python program to print the pattern given below\n",
    "    Note: Take input from user\n",
    "    1\n",
    "    2 2\n",
    "    3 3 3\n",
    "    4 4 4 4\n",
    "    5 5 5 5 5\n"
   ]
  },
  {
   "cell_type": "code",
   "execution_count": 49,
   "metadata": {},
   "outputs": [
    {
     "name": "stdin",
     "output_type": "stream",
     "text": [
      "Enter to print a number: 5\n"
     ]
    },
    {
     "name": "stdout",
     "output_type": "stream",
     "text": [
      "1 \n",
      "\n",
      "2 2 \n",
      "\n",
      "3 3 3 \n",
      "\n",
      "4 4 4 4 \n",
      "\n",
      "5 5 5 5 5 \n",
      "\n"
     ]
    }
   ],
   "source": [
    "n = int(input(\"Enter to print a number:\"))\n",
    "\n",
    "for i in range(1,n+1,1):\n",
    "    for j in range(1,i+1,1):\n",
    "        print(i,end=\" \")\n",
    "    print(\"\\n\")"
   ]
  }
 ],
 "metadata": {
  "kernelspec": {
   "display_name": "Python 3",
   "language": "python",
   "name": "python3"
  },
  "language_info": {
   "codemirror_mode": {
    "name": "ipython",
    "version": 3
   },
   "file_extension": ".py",
   "mimetype": "text/x-python",
   "name": "python",
   "nbconvert_exporter": "python",
   "pygments_lexer": "ipython3",
   "version": "3.7.6"
  }
 },
 "nbformat": 4,
 "nbformat_minor": 4
}
