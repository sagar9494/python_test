{
 "cells": [
  {
   "cell_type": "markdown",
   "metadata": {},
   "source": [
    "# Question 1\n",
    "     Write a function to find max of three numbers."
   ]
  },
  {
   "cell_type": "code",
   "execution_count": 38,
   "metadata": {},
   "outputs": [
    {
     "name": "stdout",
     "output_type": "stream",
     "text": [
      "18\n",
      "18\n",
      "18\n",
      "18\n",
      "18\n",
      "18\n",
      "300\n",
      "400\n",
      "333\n"
     ]
    }
   ],
   "source": [
    "def max(x,y,z):\n",
    "    if x>y and x>z:\n",
    "        return x\n",
    "    elif y>z:\n",
    "        return y\n",
    "    else:\n",
    "        return z\n",
    "\n",
    "print(max(16,18,10))\n",
    "print(max(18,16,10))\n",
    "print(max(10,16,18))\n",
    "print(max(10,18,16))\n",
    "print(max(16,10,18))\n",
    "print(max(18,10,16))\n",
    "print(max(100,200,300))\n",
    "print(max(400,200,100))\n",
    "print(max(111,333,222))\n",
    "\n",
    "\n",
    "\n"
   ]
  },
  {
   "cell_type": "markdown",
   "metadata": {},
   "source": [
    "# Question 2\n",
    "     Write a Python program to detect the number of local variables declared in a function."
   ]
  },
  {
   "cell_type": "code",
   "execution_count": 67,
   "metadata": {},
   "outputs": [
    {
     "name": "stdout",
     "output_type": "stream",
     "text": [
      "0\n",
      "4\n"
     ]
    }
   ],
   "source": [
    "  \n",
    "# A function containing no variables  \n",
    "def local(): \n",
    "    pass\n",
    "  \n",
    "# A function containing 3 variables  \n",
    "def fun(): \n",
    "    a, b, c = 10, 6.25, 5555\n",
    "    str = \"Welcome to Python\"\n",
    "  \n",
    " \n",
    "print(local.__code__.co_nlocals) \n",
    "print(fun.__code__.co_nlocals) \n"
   ]
  },
  {
   "cell_type": "markdown",
   "metadata": {},
   "source": [
    "# Question 3\n",
    "    Write a recursive function to calculate the sum of numbers from 0 to 10\n",
    "    Expected output: 55"
   ]
  },
  {
   "cell_type": "code",
   "execution_count": 93,
   "metadata": {},
   "outputs": [
    {
     "name": "stdout",
     "output_type": "stream",
     "text": [
      "55\n"
     ]
    }
   ],
   "source": [
    "def sum_numbers(n):\n",
    "    if n <=1:\n",
    "        return n\n",
    "    return n + sum_numbers(n-1)\n",
    "n=10\n",
    "print(sum_numbers(n))"
   ]
  },
  {
   "cell_type": "markdown",
   "metadata": {},
   "source": [
    "# Question 4\n",
    "    Create a function showStudent() in such a way that it should accept student id, name, and it’s college name  and if the id and college name is missing in function call it should show it as by default id is 1 and college name  is VITA."
   ]
  },
  {
   "cell_type": "code",
   "execution_count": 130,
   "metadata": {},
   "outputs": [
    {
     "name": "stdout",
     "output_type": "stream",
     "text": [
      "(34, 'Sagar', 'Geca')\n",
      "(1, 'Ketan', 'VITA')\n"
     ]
    }
   ],
   "source": [
    "def showStudent(name,student_id=1, college_name=\"VITA\"):\n",
    "   \n",
    "    return (student_id,name,college_name)\n",
    "\n",
    "print(showStudent(\"Sagar\",34,\"Geca\"))\n",
    "print(showStudent(\"Ketan\"))"
   ]
  },
  {
   "cell_type": "markdown",
   "metadata": {},
   "source": [
    "# Question 5\n",
    "    Write a Python function that takes a list and returns a new list with unique elements of the first list.\n",
    "    Sample List : [11,22,22,33,33,33,44,55,55,66]\n",
    "    Unique List : [11, 22,33, 44, 55,66]"
   ]
  },
  {
   "cell_type": "code",
   "execution_count": 153,
   "metadata": {},
   "outputs": [
    {
     "name": "stdout",
     "output_type": "stream",
     "text": [
      "[11, 22, 33, 44, 55, 66]\n"
     ]
    }
   ],
   "source": [
    "def unique(s):\n",
    "    unique_list=[]\n",
    "    for i in s:\n",
    "        if i not in unique_list:\n",
    "            unique_list.append(i)\n",
    "    return unique_list\n",
    "\n",
    "print(unique([11,22,22,33,33,33,44,55,55,66]))"
   ]
  },
  {
   "cell_type": "markdown",
   "metadata": {},
   "source": [
    "# Question 6\n",
    "    6. Write a program to obtain the sum of the first and last digit of this number 2 user defined functions\n",
    "    1st for first digit\n",
    "    2nd for last digit\n",
    "    Example:\n",
    "    Input:  5424\n",
    "    Output: 9"
   ]
  },
  {
   "cell_type": "code",
   "execution_count": null,
   "metadata": {},
   "outputs": [],
   "source": []
  }
 ],
 "metadata": {
  "kernelspec": {
   "display_name": "Python 3",
   "language": "python",
   "name": "python3"
  },
  "language_info": {
   "codemirror_mode": {
    "name": "ipython",
    "version": 3
   },
   "file_extension": ".py",
   "mimetype": "text/x-python",
   "name": "python",
   "nbconvert_exporter": "python",
   "pygments_lexer": "ipython3",
   "version": "3.7.6"
  }
 },
 "nbformat": 4,
 "nbformat_minor": 4
}
