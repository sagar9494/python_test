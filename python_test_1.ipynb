{
 "cells": [
  {
   "cell_type": "markdown",
   "metadata": {},
   "source": [
    "1. Given a number count the total number of digits in a number\n",
    "For example: The number is 75869, so the output should be\n",
    "Reverse the following list using for loop\n",
    "list1 = [10, 20, 30, 40, 50]\n",
    "Expected output:\n",
    "50\n",
    "40\n",
    "30\n",
    "20\n",
    "10"
   ]
  },
  {
   "cell_type": "code",
   "execution_count": 16,
   "metadata": {},
   "outputs": [
    {
     "name": "stdout",
     "output_type": "stream",
     "text": [
      "75869\n",
      "number of digits: 5\n",
      "Number of digits :  9\n",
      "[10, 20, 30, 40, 50]\n",
      "\n",
      "\n",
      "50 40 30 20 10 "
     ]
    }
   ],
   "source": [
    "#1.1 solution\n",
    "number=\"75869\"\n",
    "print(number)\n",
    "print(\"number of digits:\",len(number))\n",
    "\n",
    "#1.1 solution\n",
    "\n",
    "# function to import ceil and log  \n",
    "import math \n",
    "  \n",
    "def countDigit(n): \n",
    "    return math.floor(math.log(n, 10)+1) \n",
    "  \n",
    "# Driver Code \n",
    "n = 345289467\n",
    "print (\"Number of digits : % d\"%(countDigit(n))) \n",
    "\n",
    "\n",
    "\n",
    "\n",
    "#1.2 Solution\n",
    "list1=[10,20,30,40,50]\n",
    "print(list1)\n",
    "print(\"\\n\")\n",
    "for p in reversed(list1):\n",
    "    print(p,end=\" \")\n"
   ]
  },
  {
   "cell_type": "markdown",
   "metadata": {},
   "source": [
    "2. Given 2 strings, s1 and s2, create a new string by appending s2 in the middle of s1\n",
    "Expected Outcome:\n",
    "appendMiddle(\"Chrisdem\", IamNewString) → \"ChrIamNewStringisdem\""
   ]
  },
  {
   "cell_type": "code",
   "execution_count": 17,
   "metadata": {},
   "outputs": [
    {
     "name": "stdout",
     "output_type": "stream",
     "text": [
      "Original Strings are Chrisdem IamNewString\n",
      "After appending new string in middle ChrIamNewStringisdem\n"
     ]
    }
   ],
   "source": [
    "def appendMiddle(s1, s2):\n",
    "  middleIndex = int(len(s1) /2)\n",
    "  print(\"Original Strings are\", s1, s2)\n",
    "  middleThree = s1[:middleIndex-1:]+ s2 +s1[middleIndex-1:]\n",
    "  print(\"After appending new string in middle\", middleThree)\n",
    "  \n",
    "appendMiddle(\"Chrisdem\", \"IamNewString\")"
   ]
  },
  {
   "cell_type": "markdown",
   "metadata": {},
   "source": [
    "3. Arrange String characters such that lowercase letters should come first\n",
    "Given input String of combination of the lower and upper case arrange characters in such a way that all\n",
    "lowercase letters should come first.\n",
    "Expected Output:\n",
    "input_String = PyNaTive\n",
    "arranging characters giving precedence to lowercase letters\n",
    "aeiNPTvy\n",
    "arranging characters giving precedence to lowercase letters:\n",
    "yaivePNT"
   ]
  },
  {
   "cell_type": "code",
   "execution_count": 7,
   "metadata": {},
   "outputs": [
    {
     "name": "stdin",
     "output_type": "stream",
     "text": [
      "Enter the String: adddjsTTvccs\n"
     ]
    },
    {
     "name": "stdout",
     "output_type": "stream",
     "text": [
      "\n",
      " arranging characters giving precedence to lowercase letters:\n",
      "adddjsvccsTT\n"
     ]
    }
   ],
   "source": [
    "inputStr = input(\"Enter the String:\")\n",
    "words = inputStr.split()\n",
    "lower = []\n",
    "upper = []\n",
    "for char in inputStr:\n",
    "    if char.islower():\n",
    "        lower.append(char)\n",
    "    else:\n",
    "        upper.append(char)\n",
    "sortedString = ''.join(lower + upper)\n",
    "print(\"\\n arranging characters giving precedence to lowercase letters:\")\n",
    "print(sortedString)\n",
    "\n",
    "\n"
   ]
  },
  {
   "cell_type": "markdown",
   "metadata": {},
   "source": [
    "4. Given a string, return the sum and average of the digits that appear in the string, ignoring all other\n",
    "characters\n",
    "For Example: –\n",
    "sumAndAverage(\"English = 78 Science = 83 Math = 68 History = 65\") = sum 294 Percentage is 73.5\n",
    "Solution:\n",
    "import r"
   ]
  },
  {
   "cell_type": "code",
   "execution_count": 8,
   "metadata": {},
   "outputs": [
    {
     "name": "stdin",
     "output_type": "stream",
     "text": [
      "Enter details: english=45 math=50 science=70\n"
     ]
    },
    {
     "name": "stdout",
     "output_type": "stream",
     "text": [
      "Total Marks is: 165 Average is  55.0\n"
     ]
    }
   ],
   "source": [
    "import re\n",
    "\n",
    "inputString = input(\"Enter details:\")\n",
    "markList = [int(num) for num in re.findall(r'\\b\\d+\\b', inputString)]\n",
    "totalMarks = 0\n",
    "for mark in markList:\n",
    "  totalMarks+=mark\n",
    "\n",
    "average= totalMarks/len(markList)  \n",
    "print(\"Total Marks is:\", totalMarks, \"Average is \", average)\n",
    "\n"
   ]
  },
  {
   "cell_type": "markdown",
   "metadata": {},
   "source": [
    "5. Given a two list. Create a third list by picking an odd-index element from the first list and even index\n",
    "elements from second.\n",
    "For Example:\n",
    "listOne = [3, 6, 9, 12, 15, 18, 21]\n",
    "listTwo = [4, 8, 12, 16, 20, 24, 28]\n",
    "Expected Output:\n",
    "Element at odd-index positions from list one\n",
    "[6, 12, 18]\n",
    "Element at even-index positions from list two\n",
    "[4, 12, 20, 28]\n",
    "Printing Final third list\n",
    "[6, 12, 18, 4, 12, 20, 28]"
   ]
  },
  {
   "cell_type": "code",
   "execution_count": 16,
   "metadata": {},
   "outputs": [
    {
     "name": "stdout",
     "output_type": "stream",
     "text": [
      "Element at odd-index positions from list one\n",
      "[6, 12, 18]\n",
      "Element at even-index positions from list two\n",
      "[4, 12, 20, 28]\n",
      "Printing Final third list\n",
      "[4, 12, 20, 28]\n"
     ]
    }
   ],
   "source": [
    "listOne = [3, 6, 9, 12, 15, 18, 21]\n",
    "listTwo = [4, 8, 12, 16, 20, 24, 28]\n",
    "\n",
    "finalList= list()\n",
    "\n",
    "\n",
    "oddElements = listOne[1::2]\n",
    "print(\"Element at odd-index positions from list one\")\n",
    "print(oddElements)\n",
    "\n",
    "EvenElement = listTwo[0::2]\n",
    "print(\"Element at even-index positions from list two\")\n",
    "print(EvenElements)\n",
    "\n",
    "print(\"Printing Final third list\")\n",
    "finalList.extend(oddElements)\n",
    "finalList.extend(EvenElements)\n",
    "print(finalList)"
   ]
  }
 ],
 "metadata": {
  "kernelspec": {
   "display_name": "Python 3",
   "language": "python",
   "name": "python3"
  },
  "language_info": {
   "codemirror_mode": {
    "name": "ipython",
    "version": 3
   },
   "file_extension": ".py",
   "mimetype": "text/x-python",
   "name": "python",
   "nbconvert_exporter": "python",
   "pygments_lexer": "ipython3",
   "version": "3.7.6"
  }
 },
 "nbformat": 4,
 "nbformat_minor": 4
}
