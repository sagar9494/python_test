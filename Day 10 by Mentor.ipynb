{
 "cells": [
  {
   "cell_type": "markdown",
   "metadata": {},
   "source": [
    "# Question 1\n",
    "    Write a NumPy program to get the numpy version and show numpy build configuration."
   ]
  },
  {
   "cell_type": "code",
   "execution_count": 31,
   "metadata": {},
   "outputs": [
    {
     "name": "stdout",
     "output_type": "stream",
     "text": [
      "Numpy Version is: 1.18.1\n",
      "\n",
      "blas_mkl_info:\n",
      "    libraries = ['mkl_rt', 'pthread']\n",
      "    library_dirs = ['/home/abhilash/anaconda3/lib']\n",
      "    define_macros = [('SCIPY_MKL_H', None), ('HAVE_CBLAS', None)]\n",
      "    include_dirs = ['/home/abhilash/anaconda3/include']\n",
      "blas_opt_info:\n",
      "    libraries = ['mkl_rt', 'pthread']\n",
      "    library_dirs = ['/home/abhilash/anaconda3/lib']\n",
      "    define_macros = [('SCIPY_MKL_H', None), ('HAVE_CBLAS', None)]\n",
      "    include_dirs = ['/home/abhilash/anaconda3/include']\n",
      "lapack_mkl_info:\n",
      "    libraries = ['mkl_rt', 'pthread']\n",
      "    library_dirs = ['/home/abhilash/anaconda3/lib']\n",
      "    define_macros = [('SCIPY_MKL_H', None), ('HAVE_CBLAS', None)]\n",
      "    include_dirs = ['/home/abhilash/anaconda3/include']\n",
      "lapack_opt_info:\n",
      "    libraries = ['mkl_rt', 'pthread']\n",
      "    library_dirs = ['/home/abhilash/anaconda3/lib']\n",
      "    define_macros = [('SCIPY_MKL_H', None), ('HAVE_CBLAS', None)]\n",
      "    include_dirs = ['/home/abhilash/anaconda3/include']\n",
      "show numpy build configuration: None\n"
     ]
    }
   ],
   "source": [
    "import numpy as np\n",
    "print(\"Numpy Version is:\",np.__version__)\n",
    "print()\n",
    "print(\"show numpy build configuration:\",np.show_config())"
   ]
  },
  {
   "cell_type": "markdown",
   "metadata": {},
   "source": [
    "# Question 2 \n",
    "    Write a NumPy program to test element-wise for complex number, real number of a given array. Also test whether a given number is a scalar type or not."
   ]
  },
  {
   "cell_type": "code",
   "execution_count": 44,
   "metadata": {},
   "outputs": [
    {
     "name": "stdout",
     "output_type": "stream",
     "text": [
      "Original array\n",
      "[1. +1.j 1. +0.j 3.5+0.j 3. +0.j 0. +2.j]\n",
      "\n",
      "Checking for complex number: [ True False False False  True]\n",
      "\n",
      "Checking for real number: [False  True  True  True False]\n",
      "\n",
      "checking for Scalar type:\n",
      "True\n",
      "True\n",
      "False\n"
     ]
    }
   ],
   "source": [
    "import numpy as np\n",
    "l = np.array([1+1j, 1+0j, 3.5, 3, 2j])\n",
    "print(\"Original array\")\n",
    "print(l)\n",
    "print()\n",
    "print(\"Checking for complex number:\",np.iscomplex(l))\n",
    "print()\n",
    "print(\"Checking for real number:\",np.isreal(l))\n",
    "print()\n",
    "print(\"checking for Scalar type:\")\n",
    "print(np.isscalar(4.5))\n",
    "print(np.isscalar(4))\n",
    "print(np.isscalar([4.5]))"
   ]
  },
  {
   "cell_type": "markdown",
   "metadata": {},
   "source": [
    "# Question 3\n",
    "    Write a NumPy program to test whether none of the elements of a given array is zero."
   ]
  },
  {
   "cell_type": "code",
   "execution_count": 50,
   "metadata": {},
   "outputs": [
    {
     "name": "stdout",
     "output_type": "stream",
     "text": [
      "original Array: [1 2 3 0 0]\n",
      "False\n",
      "original Array: [1 2 3 4]\n",
      "True\n"
     ]
    }
   ],
   "source": [
    "import numpy as np\n",
    "list_a =np.array([1,2,3,0,0])\n",
    "print(\"original Array:\",list_a)\n",
    "\n",
    "list_b = np.all(list_a)\n",
    "print(list_b)\n",
    "\n",
    "list_c = np.array([1,2,3,4])\n",
    "print(\"original Array:\",list_c)\n",
    "\n",
    "list_d = np.all(list_c)\n",
    "print(list_d)"
   ]
  },
  {
   "cell_type": "markdown",
   "metadata": {},
   "source": [
    "# Question 4 \n",
    "    Write a NumPy program to test whether any of the elements of a given array is non-zero."
   ]
  },
  {
   "cell_type": "code",
   "execution_count": 54,
   "metadata": {},
   "outputs": [
    {
     "name": "stdout",
     "output_type": "stream",
     "text": [
      "original array: [0 0 0 0 0]\n",
      "False\n",
      "original array : [1 2 3 0 0]\n",
      "True\n"
     ]
    }
   ],
   "source": [
    "import numpy as np\n",
    "array_1 = np.array([0,0,0,0,0])\n",
    "print(\"original array:\",array_1)\n",
    "print(np.any(array_1))\n",
    "\n",
    "array_2 = np.array([1,2,3,0,0])\n",
    "print(\"original array :\",array_2)\n",
    "print(np.any(array_2))\n",
    "\n"
   ]
  },
  {
   "cell_type": "markdown",
   "metadata": {},
   "source": [
    "# Question 5 \n",
    "    Write a NumPy program to test element-wise for NaN of a given array.\n"
   ]
  },
  {
   "cell_type": "code",
   "execution_count": 56,
   "metadata": {},
   "outputs": [
    {
     "name": "stdout",
     "output_type": "stream",
     "text": [
      "Original array: [ 4.  5.  6.  7. nan]\n",
      "[False False False False  True]\n"
     ]
    }
   ],
   "source": [
    "\n",
    "import numpy as np\n",
    "array_a=np.array([4,5,6,7,np.NaN])\n",
    "print(\"Original array:\",array_a)\n",
    "print(np.isnan(array_a))\n",
    "\n"
   ]
  },
  {
   "cell_type": "markdown",
   "metadata": {},
   "source": [
    "# Question 6\n",
    "    Write a NumPy program to create an element-wise comparison (greater, greater_equal, less and less_equal) of two given arrays. "
   ]
  },
  {
   "cell_type": "code",
   "execution_count": 1,
   "metadata": {},
   "outputs": [
    {
     "name": "stdout",
     "output_type": "stream",
     "text": [
      "greater value [False False False  True False False  True False]\n",
      "greater equal [False False False  True  True False  True  True]\n",
      "less [ True  True  True False False  True False False]\n",
      "less_equal [ True  True  True False  True  True False  True]\n"
     ]
    }
   ],
   "source": [
    "import numpy as np\n",
    "array_1=([11,22,33,44,55,66,77,88])\n",
    "array_2=([22,33,44,11,55,77,66,88])\n",
    "\n",
    "print(\"greater value\",np.greater(array_1,array_2))\n",
    "print(\"greater equal\",np.greater_equal(array_1,array_2))\n",
    "print(\"less\",np.less(array_1,array_2))\n",
    "print(\"less_equal\",np.less_equal(array_1,array_2))"
   ]
  },
  {
   "cell_type": "markdown",
   "metadata": {},
   "source": [
    "# Question 7\n",
    "    Write a NumPy program to create an element-wise comparison (equal, equal within a tolerance) of two given arrays.\n",
    "    Input:\n",
    "    x = np.array ([72, 79, 85, 90, 150, -135, 120, -10, 60, 100])\n",
    "    y = np.array ([72, 79, 85, 90, 150, -135, 120, -10, 60, 100.000001])"
   ]
  },
  {
   "cell_type": "code",
   "execution_count": 5,
   "metadata": {},
   "outputs": [
    {
     "name": "stdout",
     "output_type": "stream",
     "text": [
      "Equal: [ True  True  True  True  True  True  True  True  True False]\n",
      "Equal within a tolerance: True\n"
     ]
    }
   ],
   "source": [
    "import numpy as np\n",
    "\n",
    "x = np.array ([72, 79, 85, 90, 150, -135, 120, -10, 60, 100])\n",
    "y = np.array ([72, 79, 85, 90, 150, -135, 120, -10, 60, 100.000001])\n",
    "\n",
    "print(\"Equal:\",np.equal(x,y))\n",
    "print(\"Equal within a tolerance:\",np.allclose(x,y))"
   ]
  },
  {
   "cell_type": "markdown",
   "metadata": {},
   "source": [
    "# Question 8\n",
    "    Write a NumPy program to create an array with the values 1, 7, 13, 105 and determine the size of the memory occupied by the array."
   ]
  },
  {
   "cell_type": "markdown",
   "metadata": {},
   "source": [
    "import numpy as np\n",
    "\n",
    "array = np.array([1,7,13,105])\n",
    "print(array)\n",
    "print(\"%d\"%(array.size*array.itemsize))"
   ]
  },
  {
   "cell_type": "markdown",
   "metadata": {},
   "source": [
    "# Question 9\n",
    "    Write a NumPy program to create an array of 10 zeros, 10 ones, 10 fives."
   ]
  },
  {
   "cell_type": "code",
   "execution_count": 20,
   "metadata": {},
   "outputs": [
    {
     "name": "stdout",
     "output_type": "stream",
     "text": [
      "Array of 10 Zeros: [0. 0. 0. 0. 0. 0. 0. 0. 0. 0.]\n",
      "Array of 10 ones: [1. 1. 1. 1. 1. 1. 1. 1. 1. 1.]\n",
      "Array of 10 five: [5. 5. 5. 5. 5. 5. 5. 5. 5. 5.]\n"
     ]
    }
   ],
   "source": [
    "import numpy as np\n",
    "\n",
    "array_1 = np.zeros(10)\n",
    "print(\"Array of 10 Zeros:\",array_1)\n",
    "array_2 = np.ones(10)\n",
    "print(\"Array of 10 ones:\",array_2)\n",
    "array_3 = np.ones(10)*5\n",
    "print(\"Array of 10 five:\",array_3)\n"
   ]
  },
  {
   "cell_type": "markdown",
   "metadata": {},
   "source": [
    "# Question 10\n",
    "    Write a NumPy program to create an array of the integers from 30 to 70."
   ]
  },
  {
   "cell_type": "code",
   "execution_count": 26,
   "metadata": {},
   "outputs": [
    {
     "name": "stdout",
     "output_type": "stream",
     "text": [
      "[30 31 32 33 34 35 36 37 38 39 40 41 42 43 44 45 46 47 48 49 50 51 52 53\n",
      " 54 55 56 57 58 59 60 61 62 63 64 65 66 67 68 69 70]\n"
     ]
    }
   ],
   "source": [
    "import numpy as np\n",
    "\n",
    "array = np.arange(30,71)\n",
    "print(array)"
   ]
  },
  {
   "cell_type": "markdown",
   "metadata": {},
   "source": [
    "# Question 11\n",
    "    Write a NumPy program to create an array of all the even integers from 30 to 70."
   ]
  },
  {
   "cell_type": "code",
   "execution_count": 28,
   "metadata": {},
   "outputs": [
    {
     "name": "stdout",
     "output_type": "stream",
     "text": [
      "[30 32 34 36 38 40 42 44 46 48 50 52 54 56 58 60 62 64 66 68 70]\n"
     ]
    }
   ],
   "source": [
    "import numpy as np\n",
    "array = np.arange(30,71,2)\n",
    "print(array)"
   ]
  },
  {
   "cell_type": "markdown",
   "metadata": {},
   "source": [
    "# Question 12\n",
    "    Write a NumPy program to create a 3x3 identity matrix."
   ]
  },
  {
   "cell_type": "code",
   "execution_count": 45,
   "metadata": {},
   "outputs": [
    {
     "name": "stdout",
     "output_type": "stream",
     "text": [
      "Create a 3x3 identity matrix:\n",
      "[[1. 0. 0.]\n",
      " [0. 1. 0.]\n",
      " [0. 0. 1.]]\n"
     ]
    }
   ],
   "source": [
    "import numpy as np\n",
    "array=np.identity(3)\n",
    "print(\"Create a 3x3 identity matrix:\")\n",
    "print(array)"
   ]
  },
  {
   "cell_type": "markdown",
   "metadata": {},
   "source": [
    "# Question 13\n",
    "    Write a NumPy program to generate a random number between 0 and 1."
   ]
  },
  {
   "cell_type": "code",
   "execution_count": 85,
   "metadata": {},
   "outputs": [
    {
     "name": "stdout",
     "output_type": "stream",
     "text": [
      "number is : 1.5610767736198172\n"
     ]
    }
   ],
   "source": [
    "import numpy as np\n",
    "\n",
    "number = np.random.normal(0,1)\n",
    "print(\"number is :\",number)"
   ]
  },
  {
   "cell_type": "markdown",
   "metadata": {},
   "source": [
    "# Question 14\n",
    "    Write a NumPy program to generate an array of 15 random numbers from a standard normal distribution."
   ]
  },
  {
   "cell_type": "code",
   "execution_count": 113,
   "metadata": {},
   "outputs": [
    {
     "name": "stdout",
     "output_type": "stream",
     "text": [
      "number is : [ 0.00416928 -1.22503828  1.77940255 -0.39322992 -1.01065599 -0.80223092\n",
      " -1.09748886  1.09862053  0.33971244 -0.56268947  0.52057249 -0.70399449\n",
      " -0.95815639  0.14421452 -1.11794809]\n"
     ]
    }
   ],
   "source": [
    "import numpy as np\n",
    "\n",
    "number = np.random.normal(0,1,15)\n",
    "print(\"number is :\",number)"
   ]
  },
  {
   "cell_type": "markdown",
   "metadata": {},
   "source": [
    "# Question 15\n",
    "    Write a NumPy program to create a vector with values ​​ranging from 15 to 55 and print all values ​​except the first and last."
   ]
  },
  {
   "cell_type": "code",
   "execution_count": 126,
   "metadata": {},
   "outputs": [
    {
     "name": "stdout",
     "output_type": "stream",
     "text": [
      "original values: [15 16 17 18 19 20 21 22 23 24 25 26 27 28 29 30 31 32 33 34 35 36 37 38\n",
      " 39 40 41 42 43 44 45 46 47 48 49 50 51 52 53 54 55]\n",
      "\n",
      "Values after except the first and last: [16 17 18 19 20 21 22 23 24 25 26 27 28 29 30 31 32 33 34 35 36 37 38 39\n",
      " 40 41 42 43 44 45 46 47 48 49 50 51 52 53 54]\n"
     ]
    }
   ],
   "source": [
    "import numpy as np\n",
    "\n",
    "vector = np.arange(15,56)\n",
    "print(\"original values:\",vector)\n",
    "print()\n",
    "print(\"Values after except the first and last:\",vector[1:-1])"
   ]
  }
 ],
 "metadata": {
  "kernelspec": {
   "display_name": "Python 3",
   "language": "python",
   "name": "python3"
  },
  "language_info": {
   "codemirror_mode": {
    "name": "ipython",
    "version": 3
   },
   "file_extension": ".py",
   "mimetype": "text/x-python",
   "name": "python",
   "nbconvert_exporter": "python",
   "pygments_lexer": "ipython3",
   "version": "3.7.6"
  }
 },
 "nbformat": 4,
 "nbformat_minor": 4
}
